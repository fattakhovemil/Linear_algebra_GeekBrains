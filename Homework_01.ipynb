{
 "cells": [
  {
   "cell_type": "code",
   "execution_count": 1,
   "metadata": {},
   "outputs": [],
   "source": [
    "import numpy as np"
   ]
  },
  {
   "cell_type": "markdown",
   "metadata": {},
   "source": [
    "__1.__ Найти скалярное произведение векторов $x, y \\in \\mathbb{R}$:<br>\n",
    "а) $x=(0,-3, 6),~y=(-4, 7, 9);$<br>\n",
    "б) $x=(7, -4, 0, 1),~y=(-3, 1, 11, 2).$"
   ]
  },
  {
   "cell_type": "code",
   "execution_count": 2,
   "metadata": {},
   "outputs": [
    {
     "name": "stdout",
     "output_type": "stream",
     "text": [
      "Скалярное произведение x и y:\n",
      "33\n"
     ]
    }
   ],
   "source": [
    "x = np.array([0, -3, 6])\n",
    "y = np.array([-4, 7, 9])\n",
    "print(f'Скалярное произведение x и y:\\n{np.dot(x, y)}')"
   ]
  },
  {
   "cell_type": "code",
   "execution_count": 3,
   "metadata": {},
   "outputs": [
    {
     "name": "stdout",
     "output_type": "stream",
     "text": [
      "Скалярное произведение x и y:\n",
      "-23\n"
     ]
    }
   ],
   "source": [
    "x = np.array([7, -4, 0, 1])\n",
    "y = np.array([-3, 1, 11, 2])\n",
    "print(f'Скалярное произведение x и y:\\n{np.dot(x, y)}')"
   ]
  },
  {
   "cell_type": "markdown",
   "metadata": {},
   "source": [
    "__2.__ Найти нормы векторов $(4, 2, 4)$ и $(12, 3, 4)$ и угол между ними."
   ]
  },
  {
   "cell_type": "code",
   "execution_count": 4,
   "metadata": {},
   "outputs": [],
   "source": [
    "from numpy.linalg import norm"
   ]
  },
  {
   "cell_type": "code",
   "execution_count": 5,
   "metadata": {},
   "outputs": [
    {
     "name": "stdout",
     "output_type": "stream",
     "text": [
      "6.0\n",
      "13.0\n",
      "Косинус угла между векторами 0.90\n",
      "Угол 0.46\n"
     ]
    }
   ],
   "source": [
    "a = np.array([4, 2, 4])\n",
    "b = np.array([12, 3, 4])\n",
    "\n",
    "print(norm(a))\n",
    "print(norm(b))\n",
    "\n",
    "cos_phi = np.dot(a, b) / norm(a) / norm(b)\n",
    "print(f'Косинус угла между векторами {cos_phi:.2f}')\n",
    "print(f'Угол {np.arccos(cos_phi):.2f}')"
   ]
  },
  {
   "cell_type": "markdown",
   "metadata": {},
   "source": [
    "__3.__ Будет ли линейное пространство евклидовым, если за скалярное произведение принять:<br>\n",
    "а) произведение длин векторов;<br>\n",
    "б) утроенное обычное скалярное произведение векторов?"
   ]
  },
  {
   "cell_type": "markdown",
   "metadata": {},
   "source": [
    "Линейное пространство E называется евклидовым,если в нем определено скалярное произведение. Значит: а) можно, б) можно"
   ]
  },
  {
   "cell_type": "markdown",
   "metadata": {},
   "source": [
    "__4.__ Какие из нижеперечисленных векторов образуют ортонормированный базис в линейном пространстве $\\mathbb{R}^{3}$:<br>\n",
    "а) $(1,0,0),(0,0,1);$ <br>\n",
    "б) $(1/\\sqrt{2},-1/\\sqrt{2},0),(1/\\sqrt{2},1/\\sqrt{2},0), (0,0,1);$<br>\n",
    "в) $(1/2, -1/2, 0), (0, 1/2, 1/2), (0,0,1);$<br>\n",
    "г) $(1,0,0),(0,1,0),(0,0,1)?$ "
   ]
  },
  {
   "cell_type": "code",
   "execution_count": 6,
   "metadata": {},
   "outputs": [
    {
     "name": "stdout",
     "output_type": "stream",
     "text": [
      "Ортонормированный базис 0\n"
     ]
    }
   ],
   "source": [
    "# а)  (1,0,0),(0,0,1);\n",
    "a = np.array([1, 0, 0])\n",
    "b = np.array([0, 0, 1])\n",
    "print('Ортонормированный базис', np.dot(a, b))"
   ]
  },
  {
   "cell_type": "code",
   "execution_count": 7,
   "metadata": {},
   "outputs": [
    {
     "name": "stdout",
     "output_type": "stream",
     "text": [
      "Ортонормированный базис\n",
      "0.0\n",
      "0.0\n",
      "0.0\n",
      "1.0, 1.0, 1.0\n"
     ]
    }
   ],
   "source": [
    "#б)  (1/2⎯⎯√,−1/2⎯⎯√,0),(1/2⎯⎯√,1/2⎯⎯√,0),(0,0,1); \n",
    "c = np.array([(1/(2**0.5)), (-1/(2**0.5)), 0])\n",
    "d = np.array([(1/(2**0.5)), (1/(2**0.5)), 0])\n",
    "b = np.array([0, 0, 1])\n",
    "print('Ортонормированный базис')\n",
    "print(np.dot(c, d))\n",
    "print(np.dot(c, b))\n",
    "print(np.dot(b, d))\n",
    "print(f'{norm(c):.1f}, {norm(d):.1f}, {norm(b):.1f}')"
   ]
  },
  {
   "cell_type": "code",
   "execution_count": 8,
   "metadata": {},
   "outputs": [
    {
     "name": "stdout",
     "output_type": "stream",
     "text": [
      "Не ортогональный, не ортонормированный базис\n",
      "-0.25\n",
      "0.0\n",
      "0.5\n",
      "0.7071067811865476 0.7071067811865476 1.0\n"
     ]
    }
   ],
   "source": [
    "#в)  (1/2,−1/2,0),(0,1/2,1/2),(0,0,1); \n",
    "e = np.array([0.5, -0.5, 0])\n",
    "f = np.array([0, 0.5, 0.5])\n",
    "b = np.array([0, 0, 1])\n",
    "print('Не ортогональный, не ортонормированный базис')\n",
    "print(np.dot(e, f))\n",
    "print(np.dot(e, b))\n",
    "print(np.dot(b, f))\n",
    "print(norm(e), norm(f), norm(b))"
   ]
  },
  {
   "cell_type": "code",
   "execution_count": 9,
   "metadata": {},
   "outputs": [
    {
     "name": "stdout",
     "output_type": "stream",
     "text": [
      "Ортонормированный базис\n"
     ]
    }
   ],
   "source": [
    "#г)  (1,0,0),(0,1,0),(0,0,1)\n",
    "print('Ортонормированный базис')"
   ]
  }
 ],
 "metadata": {
  "kernelspec": {
   "display_name": "Python 3",
   "language": "python",
   "name": "python3"
  },
  "language_info": {
   "codemirror_mode": {
    "name": "ipython",
    "version": 3
   },
   "file_extension": ".py",
   "mimetype": "text/x-python",
   "name": "python",
   "nbconvert_exporter": "python",
   "pygments_lexer": "ipython3",
   "version": "3.8.0"
  }
 },
 "nbformat": 4,
 "nbformat_minor": 4
}
